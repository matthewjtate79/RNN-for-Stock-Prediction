{
  "nbformat": 4,
  "nbformat_minor": 0,
  "metadata": {
    "colab": {
      "provenance": [],
      "authorship_tag": "ABX9TyNyoZm4WVQiLuRGzNMSjS3l",
      "include_colab_link": true
    },
    "kernelspec": {
      "name": "python3",
      "display_name": "Python 3"
    },
    "language_info": {
      "name": "python"
    }
  },
  "cells": [
    {
      "cell_type": "markdown",
      "metadata": {
        "id": "view-in-github",
        "colab_type": "text"
      },
      "source": [
        "<a href=\"https://colab.research.google.com/github/matthewjtate79/RNN-for-Stock-Prediction/blob/main/RNNTest.ipynb\" target=\"_parent\"><img src=\"https://colab.research.google.com/assets/colab-badge.svg\" alt=\"Open In Colab\"/></a>"
      ]
    },
    {
      "cell_type": "code",
      "execution_count": 4,
      "metadata": {
        "id": "vME4L6aUuUUg"
      },
      "outputs": [],
      "source": [
        "import numpy as np"
      ]
    },
    {
      "cell_type": "code",
      "source": [
        "def tanh(z):\n",
        "  return (np.exp(z) - np.exp(-1 * z)) / (np.exp(z) + np.exp(-1 * z))\n",
        "\n",
        "def tanh_prime(z):\n",
        "  return 1 - np.square(tanh(z))\n",
        "\n",
        "def sigmoid(z):\n",
        "  return 1 / (1 + np.exp(-1 * z))\n",
        "\n",
        "def sigmoid_prime(z):\n",
        "  return sigmoid(z) * (1 - sigmoid(z))"
      ],
      "metadata": {
        "id": "wppmb-xnZR4X"
      },
      "execution_count": 5,
      "outputs": []
    },
    {
      "cell_type": "code",
      "source": [
        "def RNN(X, y, num_hidden, learning_rate, epochs):\n",
        "  num_features = X.shape[1]\n",
        "  input_size = X.shape[0]\n",
        "\n",
        "  # Weight matrix for inputs\n",
        "  Whx = np.zeros((num_features, num_hidden))\n",
        "  # Weight matrix for hidden layer of previous timestep\n",
        "  Whh = np.zeros((num_hidden, num_hidden))\n",
        "  # Weight matrix for projecting hidden layer into output layer\n",
        "  Why = np.ones(num_hidden)\n",
        "\n",
        "  Bh = np.zeros(num_hidden)\n",
        "  By = np.zeros(1)\n",
        "\n",
        "  for j in range(0, epochs):\n",
        "    H_prev = np.zeros(num_hidden)\n",
        "    for i in range(0, input_size):\n",
        "      # Get the results of the hidden layer\n",
        "      H_curr = X[i] @ Whx + H_prev @ Whh + Bh\n",
        "\n",
        "      # Puts the results of hidden layer through activation function\n",
        "      a = tanh(H_curr)\n",
        "\n",
        "      # Get the results of the output layer\n",
        "      Predicted = a @ Why + By\n",
        "\n",
        "      # Calculates the mean squared error\n",
        "      Loss = 1/2 * pow(y[i] - Predicted[0], 2)\n",
        "\n",
        "      # Computs all necessary gradients\n",
        "      grad_L_y = -1 * (y[i] - Predicted[0])\n",
        "      grad_y_Why = a\n",
        "      grad_y_By = 1\n",
        "      grad_y_a = Why\n",
        "      grad_a_h = tanh_prime(H_curr)\n",
        "      grad_h_Whx = X[i]\n",
        "      grad_h_Whh = H_prev\n",
        "      grad_h_Bh = 1\n",
        "\n",
        "\n",
        "      # Gradients for parameter updates\n",
        "      grad_L_Why = grad_L_y * grad_y_Why\n",
        "      grad_L_by = grad_L_y * grad_y_By\n",
        "      grad_L_Whx = grad_h_Whx[:, np.newaxis] * (grad_L_y * grad_y_a * grad_a_h)\n",
        "      grad_L_Whh = grad_h_Whh[:, np.newaxis] * (grad_L_y * grad_y_a * grad_a_h)\n",
        "      grad_L_Bh = grad_L_y * grad_y_a * grad_a_h\n",
        "\n",
        "      # Updates weights\n",
        "      Why = Why - learning_rate * grad_L_Why\n",
        "      By = By - learning_rate * grad_L_by\n",
        "      Whx = Whx - learning_rate * grad_L_Whx\n",
        "      Whh = Whh - learning_rate * grad_L_Whh\n",
        "      Bh = Bh - learning_rate * grad_L_Bh\n",
        "\n",
        "      H_prev = H_curr\n",
        "\n",
        "  H_prevt = np.zeros(num_hidden)\n",
        "  for i in range(0, input_size):\n",
        "    H_test = X[i] @ Whx + H_prevt @ Whh + Bh\n",
        "    a_test = tanh(H_test)\n",
        "    Pred = a_test @ Why + By\n",
        "    print(Pred)\n",
        "    H_prevt = H_test\n",
        "\n",
        "\n",
        "X = np.array([[1, 2, 3],\n",
        "              [4, 5, 6],\n",
        "              [7, 8, 9]])\n",
        "y = np.array([10, 11, 12])\n",
        "\n",
        "RNN(X, y, 16, 0.001, 10000)"
      ],
      "metadata": {
        "colab": {
          "base_uri": "https://localhost:8080/"
        },
        "id": "KPQWc6HGuclF",
        "outputId": "7d710054-6183-4cde-8488-31c8057e3b4d"
      },
      "execution_count": 35,
      "outputs": [
        {
          "output_type": "stream",
          "name": "stdout",
          "text": [
            "[10.]\n",
            "[11.]\n",
            "[12.]\n"
          ]
        }
      ]
    },
    {
      "cell_type": "code",
      "source": [],
      "metadata": {
        "id": "6JAllSCLp4C_"
      },
      "execution_count": null,
      "outputs": []
    }
  ]
}