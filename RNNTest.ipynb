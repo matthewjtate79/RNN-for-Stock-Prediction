{
  "nbformat": 4,
  "nbformat_minor": 0,
  "metadata": {
    "colab": {
      "provenance": [],
      "authorship_tag": "ABX9TyOR2UDubKmOZWs2vwzyMsOr",
      "include_colab_link": true
    },
    "kernelspec": {
      "name": "python3",
      "display_name": "Python 3"
    },
    "language_info": {
      "name": "python"
    }
  },
  "cells": [
    {
      "cell_type": "markdown",
      "metadata": {
        "id": "view-in-github",
        "colab_type": "text"
      },
      "source": [
        "<a href=\"https://colab.research.google.com/github/matthewjtate79/RNN-for-Stock-Prediction/blob/main/RNNTest.ipynb\" target=\"_parent\"><img src=\"https://colab.research.google.com/assets/colab-badge.svg\" alt=\"Open In Colab\"/></a>"
      ]
    },
    {
      "cell_type": "code",
      "execution_count": null,
      "metadata": {
        "id": "vME4L6aUuUUg"
      },
      "outputs": [],
      "source": [
        "import numpy as np"
      ]
    },
    {
      "cell_type": "code",
      "source": [
        "def tanh(z):\n",
        "\n",
        "\n",
        "def tanh_prime(z):\n"
      ],
      "metadata": {
        "id": "wppmb-xnZR4X"
      },
      "execution_count": null,
      "outputs": []
    },
    {
      "cell_type": "code",
      "source": [
        "def RNN(X, y, num_hidden, learning_rate):\n",
        "  num_features = X.shape[1]\n",
        "  input_size = X.shape[0]\n",
        "\n",
        "  # Weight matrix for inputs\n",
        "  W = np.zeros((num_features, num_hidden))\n",
        "  # Weight matrix for hidden layer of previous timestep\n",
        "  U = np.zeros((num_hidden, num_hidden))\n",
        "  # Weight matrix for projecting hidden layer into output layer\n",
        "  V = np.zeros(num_hidden)\n",
        "\n",
        "  H_prev = np.zeros(num_hidden)\n",
        "  b_h = np.zeros(num_hidden)\n",
        "  b_o = np.zeros(1)\n",
        "\n",
        "  for i in range(0, input_size):\n",
        "    # Get the results of the hidden layer\n",
        "    H_curr = X[i] @ W + H_prev @ U + b_h\n",
        "    H_prev = H_curr\n",
        "\n",
        "    # Get the results of the output layer\n",
        "    Output = H_curr @ V + b_o\n",
        "\n",
        "    # Calculates the mean squared error\n",
        "    Loss = pow(y[i] - Output[0], 2)\n",
        "\n",
        "    # Updates the weights and bias for output layer\n",
        "    gradient_b = -2 * (y[i] - Output[0])\n",
        "    gradient_V = -2 * (y[i] - Output[0]) * V\n",
        "    b_o = b_o - learning_rate * gradient_b\n",
        "    V = V - learning_rate * gradient_V\n",
        "\n",
        "\n",
        "\n",
        "\n",
        "\n",
        "\n",
        "X = np.array([[1, 2, 3],\n",
        "              [4, 5, 6],\n",
        "              [7, 8, 9]])\n",
        "y = np.array([10, 11, 12])\n",
        "\n",
        "RNN(X, y, 16, 0.001)"
      ],
      "metadata": {
        "colab": {
          "base_uri": "https://localhost:8080/"
        },
        "id": "KPQWc6HGuclF",
        "outputId": "99dccac7-ab51-4582-f729-f10932cc15ca"
      },
      "execution_count": null,
      "outputs": [
        {
          "output_type": "stream",
          "name": "stdout",
          "text": [
            "100.0\n",
            "[0.02]\n",
            "[0. 0. 0. 0. 0. 0. 0. 0. 0. 0. 0. 0. 0. 0. 0. 0.]\n",
            "120.56040000000002\n",
            "[0.04196]\n",
            "[0. 0. 0. 0. 0. 0. 0. 0. 0. 0. 0. 0. 0. 0. 0. 0.]\n",
            "142.9947206416\n",
            "[0.06587608]\n",
            "[0. 0. 0. 0. 0. 0. 0. 0. 0. 0. 0. 0. 0. 0. 0. 0.]\n"
          ]
        }
      ]
    },
    {
      "cell_type": "code",
      "source": [],
      "metadata": {
        "id": "6JAllSCLp4C_"
      },
      "execution_count": null,
      "outputs": []
    }
  ]
}